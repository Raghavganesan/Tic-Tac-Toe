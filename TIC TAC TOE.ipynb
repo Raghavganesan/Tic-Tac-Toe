{
 "cells": [
  {
   "cell_type": "markdown",
   "id": "a0176779",
   "metadata": {},
   "source": [
    "# TIC TAC TOE - RAGHAVENDRAN GANESAN"
   ]
  },
  {
   "cell_type": "markdown",
   "id": "9baf98a2",
   "metadata": {},
   "source": [
    "# Function 1 : Displays the entire TIC TAC TOE BOARD"
   ]
  },
  {
   "cell_type": "code",
   "execution_count": null,
   "id": "0ecaa991",
   "metadata": {},
   "outputs": [],
   "source": [
    "# display_board():"
   ]
  },
  {
   "cell_type": "code",
   "execution_count": null,
   "id": "794c905f",
   "metadata": {},
   "outputs": [],
   "source": [
    "#Function 1 : This displays my entire Tic Tae Toe Board with all values in it\n",
    "\n",
    "def display_board(board):\n",
    "    print('   |   |')\n",
    "    print(' '+ board[7]+' | ' + board[8]+ ' | ' + board[9])\n",
    "    print('   |   |')\n",
    "    print('-----------')\n",
    "    print('   |   |')\n",
    "    print(' '+ board[4]+' | ' + board[5]+ ' | ' + board[6])\n",
    "    print('   |   |')\n",
    "    print('-----------')\n",
    "    print('   |   |')\n",
    "    print(' '+ board[1]+' | ' + board[2]+ ' | ' + board[3])\n",
    "    print('   |   |')\n",
    "    "
   ]
  },
  {
   "cell_type": "code",
   "execution_count": null,
   "id": "0fb9fb7d",
   "metadata": {},
   "outputs": [],
   "source": [
    "board = ['X','O','X','O','X','O','X','O','X','O']"
   ]
  },
  {
   "cell_type": "code",
   "execution_count": null,
   "id": "de777e28",
   "metadata": {},
   "outputs": [],
   "source": [
    "display_board(board)"
   ]
  },
  {
   "cell_type": "markdown",
   "id": "aff93096",
   "metadata": {},
   "source": [
    "# Function 2  : Takes inputs from user either X or 0"
   ]
  },
  {
   "cell_type": "code",
   "execution_count": null,
   "id": "44ba0bd5",
   "metadata": {},
   "outputs": [],
   "source": [
    "#Function 2 : This will contains the function which will take inputs from the user 'x' OR '0'\n",
    "\n",
    "def user_input() :\n",
    "    user_str = \" \"\n",
    "    while not (user_str==\"X\" or user_str ==\"O\"):\n",
    "        user_str= input(\"User please accept from (X or 0) !\")\n",
    "    \n",
    "    if user_str == \"X\" :\n",
    "        return ('X','O')   # this indicates player1 chose X and Player 2 chose 0\n",
    "    else :\n",
    "        return('O','X')\n",
    "        "
   ]
  },
  {
   "cell_type": "code",
   "execution_count": null,
   "id": "2e935a34",
   "metadata": {},
   "outputs": [],
   "source": [
    "index = user_input()"
   ]
  },
  {
   "cell_type": "markdown",
   "id": "3efdf7e7",
   "metadata": {},
   "source": [
    "# Function 3 : puts the X or 0 from the user in a specific position given by the user"
   ]
  },
  {
   "cell_type": "code",
   "execution_count": null,
   "id": "ce9fdd52",
   "metadata": {},
   "outputs": [],
   "source": [
    "#Function 3 : this will just include a function that will put a specific value at a specific index position\n",
    "\n",
    "def specific_position(board,value,position):\n",
    "    board[position] = value"
   ]
  },
  {
   "cell_type": "code",
   "execution_count": null,
   "id": "f92987ae",
   "metadata": {},
   "outputs": [],
   "source": [
    "print(board)"
   ]
  },
  {
   "cell_type": "code",
   "execution_count": null,
   "id": "9d00dfb2",
   "metadata": {},
   "outputs": [],
   "source": [
    "specific_position(board,'@',8)\n",
    "display_board(board)"
   ]
  },
  {
   "cell_type": "markdown",
   "id": "6215e12f",
   "metadata": {},
   "source": [
    "# Function 4 : Checks if the person has won the game using different combinations"
   ]
  },
  {
   "cell_type": "code",
   "execution_count": null,
   "id": "e0fd04dc",
   "metadata": {},
   "outputs": [],
   "source": [
    "#Function 4 : This function will check in if someone has won if he/her value matches with the board\n",
    "\n",
    "# we are checking all posibilities : All rows , all Columns and two diagonals to see if there are 3 X's or O's.\n",
    "\n",
    "def win_check(board,value):\n",
    "    return ((board[7] == value and board[8] == value and board[9] == value) or # across the top\n",
    "    (board[4] == value and board[5] == value and board[6] == value) or # across the middle\n",
    "    (board[1] == value and board[2] == value and board[3] == value) or # across the bottom\n",
    "    (board[7] == value and board[4] == value and board[1] == value) or # down the middle\n",
    "    (board[8] == value and board[5] == value and board[2] == value) or # down the middle\n",
    "    (board[9] == value and board[6] == value and board[3] == value) or # down the right side\n",
    "    (board[7] == value and board[5] == value and board[3] == value) or # diagonal\n",
    "    (board[9] == value and board[5] == value and board[1] == value)) # diagonal\n",
    "    "
   ]
  },
  {
   "cell_type": "markdown",
   "id": "01f7039f",
   "metadata": {},
   "source": [
    "# Function 5 : Randomizes which player will began the game first"
   ]
  },
  {
   "cell_type": "code",
   "execution_count": null,
   "id": "c2aa8eaa",
   "metadata": {},
   "outputs": [],
   "source": [
    "#Function 5 : this function will randomly decide which player wil play first\n",
    "\n",
    "\n",
    "import random\n",
    "\n",
    "def user_first() :\n",
    "    if random.randint(0,1) ==0 :\n",
    "        return \"Player 2\"\n",
    "    else:\n",
    "        return \"Player 1\""
   ]
  },
  {
   "cell_type": "code",
   "execution_count": null,
   "id": "e6389c3a",
   "metadata": {},
   "outputs": [],
   "source": [
    "x = user_first()"
   ]
  },
  {
   "cell_type": "code",
   "execution_count": null,
   "id": "950f7250",
   "metadata": {},
   "outputs": [],
   "source": [
    "x"
   ]
  },
  {
   "cell_type": "markdown",
   "id": "458dee30",
   "metadata": {},
   "source": [
    "# Function 6 : Return True or False if there is a space available in the board"
   ]
  },
  {
   "cell_type": "code",
   "execution_count": null,
   "id": "7530369f",
   "metadata": {},
   "outputs": [],
   "source": [
    "#Function 6 : this function will tell where there is a free space available in the tic tae board\n",
    "\n",
    "# So if the user selects some position which is already taken it will return a FALSE \n",
    "def space_check(board , position) :\n",
    "    return board[position] == \" \" "
   ]
  },
  {
   "cell_type": "markdown",
   "id": "e1e9cf1c",
   "metadata": {},
   "source": [
    "# Function 7 : Returns a boolean if the board is full or not"
   ]
  },
  {
   "cell_type": "code",
   "execution_count": null,
   "id": "3f9a32df",
   "metadata": {},
   "outputs": [],
   "source": [
    "#Function 7 : this function checks if the board is complelely full \n",
    "\n",
    "def full_check(board):\n",
    "    for i in range(1,10) :\n",
    "        if space_check(board,i):  # this goes to above func and if there is space returns FALSE\n",
    "            return False\n",
    "    return True"
   ]
  },
  {
   "cell_type": "markdown",
   "id": "fb721015",
   "metadata": {},
   "source": [
    "# Function 8 : Asks the user to select there next desired location in the board"
   ]
  },
  {
   "cell_type": "code",
   "execution_count": null,
   "id": "d9692235",
   "metadata": {},
   "outputs": [],
   "source": [
    "#Function 8 : This function tells the user to choose his/her next position \n",
    "\n",
    "def player_choice(board) :\n",
    "    position  = 0\n",
    "    while position not in [1,2,3,4,5,6,7,8,9] or not space_check(board,position ) :# if there is no free space at that particular location\n",
    "        position =  int(input(\"User enter another location\"))\n",
    "    return position\n",
    "\n",
    "# Basically if user's choice is not in prescribed index and there is no free space available\n",
    "# he has to enter another position where its possible\n",
    "    "
   ]
  },
  {
   "cell_type": "markdown",
   "id": "5baa75f7",
   "metadata": {},
   "source": [
    "# Function 9 : Asks the user if he/she is interested in continuing the game"
   ]
  },
  {
   "cell_type": "code",
   "execution_count": null,
   "id": "6753e81e",
   "metadata": {},
   "outputs": [],
   "source": [
    "#Funciton 9 : This function asks the user if he/she is interested to play the game again\n",
    "\n",
    "def play_again() :\n",
    "    choice = input(\"do you want to play again\")\n",
    "    return choice == \"Yes\""
   ]
  },
  {
   "cell_type": "code",
   "execution_count": null,
   "id": "828b96a3",
   "metadata": {},
   "outputs": [],
   "source": [
    "x = play_again()"
   ]
  },
  {
   "cell_type": "markdown",
   "id": "03db947e",
   "metadata": {},
   "source": [
    "# The final call statements of all the function which is included in these main block"
   ]
  },
  {
   "cell_type": "code",
   "execution_count": null,
   "id": "65c818ad",
   "metadata": {
    "scrolled": true
   },
   "outputs": [],
   "source": [
    "print('Welcome to Tic Tac Toe!')\n",
    "\n",
    "while True:\n",
    "    # Reset the board\n",
    "    the_board = [' '] * 10\n",
    "    \n",
    "    player1_marker, player2_marker = user_input()\n",
    "    \n",
    "    turn = user_first()\n",
    "    \n",
    "    print(turn + ' will go first.')\n",
    "    \n",
    "    play_game = input('Are you ready to play? Enter Yes or No.')\n",
    "    \n",
    "    if play_game.lower()[0] == 'y':\n",
    "        game_on = True\n",
    "    else:\n",
    "        game_on = False\n",
    "\n",
    "    while game_on:\n",
    "        if turn == 'Player 1':\n",
    "            display_board(the_board)\n",
    "            \n",
    "            #Choose a position\n",
    "            position = player_choice(the_board)\n",
    "            \n",
    "            #Put X or 0 on positon\n",
    "            specific_position(the_board,player1_marker,position)\n",
    "            \n",
    "            #Check if they won\n",
    "            \n",
    "            if win_check(the_board,player1_marker)  == True :\n",
    "                \n",
    "                display_board(the_board)\n",
    "                print(\"Player 1 has won\")\n",
    "                game_on = False\n",
    "                \n",
    "            #To check if there is a tie\n",
    "            \n",
    "            else :\n",
    "                if full_check(the_board) :\n",
    "                    display_board(the_board)\n",
    "                    print(\"The game is a TIE\")\n",
    "                    game_on = False\n",
    "                 \n",
    "                else:\n",
    "                    turn = \"Player 2\"\n",
    "        else:\n",
    "            display_board(the_board)\n",
    "            \n",
    "            #Choose a position\n",
    "            position = player_choice(the_board)\n",
    "            \n",
    "            #Put X or 0 on positon\n",
    "            specific_position(the_board,player2_marker,position)\n",
    "            \n",
    "            #Check if they won\n",
    "            \n",
    "            if win_check(the_board,player2_marker)  == True :\n",
    "                \n",
    "                display_board(the_board)\n",
    "                print(\"Player 2 has won\")\n",
    "                game_on = False\n",
    "                \n",
    "            #To check if there is a tie\n",
    "            \n",
    "            else :\n",
    "                if full_check(the_board) :\n",
    "                    display_board(the_board)\n",
    "                    print(\"The game is a TIE\")\n",
    "                    game_on = False\n",
    "                 \n",
    "                else:\n",
    "                    turn = \"Player 1\"\n",
    "                    \n",
    "    if not play_again():\n",
    "        break\n",
    "        \n",
    "\n",
    "\n",
    "\n",
    "\n",
    "\n"
   ]
  },
  {
   "cell_type": "code",
   "execution_count": null,
   "id": "78b1e554",
   "metadata": {},
   "outputs": [],
   "source": []
  }
 ],
 "metadata": {
  "kernelspec": {
   "display_name": "Python 3",
   "language": "python",
   "name": "python3"
  },
  "language_info": {
   "codemirror_mode": {
    "name": "ipython",
    "version": 3
   },
   "file_extension": ".py",
   "mimetype": "text/x-python",
   "name": "python",
   "nbconvert_exporter": "python",
   "pygments_lexer": "ipython3",
   "version": "3.8.8"
  }
 },
 "nbformat": 4,
 "nbformat_minor": 5
}
